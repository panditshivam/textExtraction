{
 "cells": [
  {
   "cell_type": "code",
   "execution_count": 1,
   "metadata": {},
   "outputs": [
    {
     "name": "stdout",
     "output_type": "stream",
     "text": [
      "No\n",
      "\n",
      "counter length 11\n",
      "8 318 572 33\n",
      "afasf\n",
      "8 274 572 34\n",
      "afasf\n",
      "8 231 572 34\n",
      "afasf\n",
      "9 188 571 34\n",
      "afasf\n",
      "9 145 572 34\n",
      "afasf\n",
      "9 108 572 27\n",
      "afasf\n",
      "10 77 136 12\n",
      "afasf\n",
      "10 61 67 14\n",
      "afasf\n",
      "10 45 53 12\n",
      "afasf\n",
      "240 31 95 10\n",
      "afasf\n",
      "262 12 52 11\n",
      "afasf\n"
     ]
    }
   ],
   "source": [
    "import cv2\n",
    "import numpy as np\n",
    "\n",
    "large = cv2.imread('/home/shivam/Desktop/2.png')\n",
    "if large is None:\n",
    "   print(\"yes\")\n",
    "else: print(\"No\\n\")\n",
    "rgb = cv2.pyrDown(large)\n",
    "small = cv2.cvtColor(rgb, cv2.COLOR_BGR2GRAY)\n",
    "\n",
    "kernel = cv2.getStructuringElement(cv2.MORPH_ELLIPSE, (3, 3))\n",
    "grad = cv2.morphologyEx(small, cv2.MORPH_GRADIENT, kernel)\n",
    "\n",
    "ret, bw = cv2.threshold(grad, 0, 255, cv2.THRESH_BINARY|cv2.THRESH_OTSU)\n",
    "\n",
    "kernel = cv2.getStructuringElement(cv2.MORPH_RECT, (9, 1))\n",
    "connected = cv2.morphologyEx(bw, cv2.MORPH_CLOSE, kernel)\n",
    "# using RETR_EXTERNAL instead of RETR_CCOMP\n",
    "contours, hierarchy = cv2.findContours(connected.copy(), cv2.RETR_EXTERNAL, cv2.CHAIN_APPROX_NONE)\n",
    "#For opencv 3+ comment the previous line and uncomment the following line\n",
    "#_, contours, hierarchy = cv2.findContours(connected.copy(), cv2.RETR_EXTERNAL, cv2.CHAIN_APPROX_NONE)\n",
    "\n",
    "mask = np.zeros(bw.shape, dtype=np.uint8)\n",
    "print(\"counter length {}\".format(len(contours)))\n",
    "for idx in range(len(contours)):\n",
    "    x, y, w, h = cv2.boundingRect(contours[idx])\n",
    "    print(x,y,w,h)\n",
    "    mask[y:y+h, x:x+w] = 0\n",
    "    cv2.drawContours(mask, contours, idx, (255, 255, 255), -1)\n",
    "    r = float(cv2.countNonZero(mask[y:y+h, x:x+w])) / (w * h)\n",
    "\n",
    "    if r > 0.45 and w > 8 and h > 8:\n",
    "        cv2.rectangle(rgb, (x, y), (x+w-1, y+h-1), (0, 255, 0), 2)\n",
    "        print(\"afasf\")\n",
    "\n",
    "cv2.imshow('rects', rgb)"
   ]
  },
  {
   "cell_type": "code",
   "execution_count": 13,
   "metadata": {},
   "outputs": [],
   "source": [
    "import cv2\n",
    "import numpy as np\n",
    "from cv2 import boundingRect, countNonZero, cvtColor, drawContours, findContours, getStructuringElement, imread, morphologyEx, pyrDown, rectangle, threshold\n",
    "\n",
    "large = imread('/home/shivam/Desktop/4.jpg')\n",
    "# downsample and use it for processing\n",
    "rgb = pyrDown(large)\n",
    "# apply grayscale\n",
    "small = cvtColor(rgb, cv2.COLOR_BGR2GRAY)\n",
    "# morphological gradient\n",
    "morph_kernel = getStructuringElement(cv2.MORPH_ELLIPSE, (3, 3))\n",
    "grad = morphologyEx(small, cv2.MORPH_GRADIENT, morph_kernel)\n",
    "# binarize\n",
    "rt, bw = threshold(src=grad, thresh=0, maxval=255, type=cv2.THRESH_BINARY+cv2.THRESH_OTSU)\n",
    "morph_kernel = getStructuringElement(cv2.MORPH_RECT, (9, 1))\n",
    "# connect horizontally oriented regions\n",
    "connected = morphologyEx(bw, cv2.MORPH_CLOSE, morph_kernel)\n",
    "mask = np.zeros(bw.shape, np.uint8)\n",
    "# find contours\n",
    "contours, hierarchy = findContours(connected, cv2.RETR_CCOMP, cv2.CHAIN_APPROX_SIMPLE)\n",
    "# filter contours\n",
    "for idx in range(0, len(hierarchy[0])):\n",
    "    rect = x, y, rect_width, rect_height = boundingRect(contours[idx])\n",
    "    # fill the contour\n",
    "    mask = drawContours(mask, contours, idx, (255, 255, 2555), cv2.FILLED)\n",
    "    # ratio of non-zero pixels in the filled region\n",
    "    r = float(countNonZero(mask)) / (rect_width * rect_height)\n",
    "    if r > 0.45 and rect_height > 8 and rect_width > 8:\n",
    "        rgb = rectangle(rgb, (x, y+rect_height), (x+rect_width, y), (0,255,0),3)"
   ]
  },
  {
   "cell_type": "code",
   "execution_count": 14,
   "metadata": {},
   "outputs": [],
   "source": [
    "from PIL import Image\n",
    "Image.fromarray(rgb).show()"
   ]
  },
  {
   "cell_type": "code",
   "execution_count": null,
   "metadata": {},
   "outputs": [],
   "source": []
  }
 ],
 "metadata": {
  "kernelspec": {
   "display_name": "Python 3",
   "language": "python",
   "name": "python3"
  },
  "language_info": {
   "codemirror_mode": {
    "name": "ipython",
    "version": 3
   },
   "file_extension": ".py",
   "mimetype": "text/x-python",
   "name": "python",
   "nbconvert_exporter": "python",
   "pygments_lexer": "ipython3",
   "version": "3.6.8"
  }
 },
 "nbformat": 4,
 "nbformat_minor": 2
}
